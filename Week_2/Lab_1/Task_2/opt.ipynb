{
 "cells": [
  {
   "cell_type": "markdown",
   "metadata": {},
   "source": [
    "<a href=\"https://colab.research.google.com/github/Teoroo-CMC/DoE_Course_Material/blob/main/Week_2/Lab_1/Task_2/opt.ipynb\" target=\"_parent\"><img src=\"https://colab.research.google.com/assets/colab-badge.svg\" alt=\"Open In Colab\"/></a>"
   ]
  },
  {
   "cell_type": "markdown",
   "metadata": {},
   "source": [
    "# Lab: find optimum\n",
    "\n",
    "In this notebook we are trying to find the maximum response 'z' of experiments conducted with two variables 'x' and 'y'. This includes design of experiments, model building, response prediction and visualisation of the collected data."
   ]
  },
  {
   "cell_type": "code",
   "execution_count": 1,
   "metadata": {},
   "outputs": [],
   "source": [
    "import numpy as np\n",
    "import matplotlib.pyplot as plt\n",
    "import pandas as pd\n",
    "import scipy.stats as stats\n",
    "import statsmodels.api as sm\n",
    "import statsmodels.formula.api as smf\n",
    "import itertools"
   ]
  },
  {
   "cell_type": "markdown",
   "metadata": {},
   "source": [
    "## Experiment\n",
    "This part defines you experiment. To get data from your experimental setup, just \n",
    "\n",
    "```python \n",
    "gaussian_function=(x, y, fwhm)\n",
    "```\n",
    "\n",
    "which will give you you result "
   ]
  },
  {
   "cell_type": "code",
   "execution_count": 2,
   "metadata": {},
   "outputs": [],
   "source": [
    "# Data generation. Doo not touch... This is your physical space :) \n",
    "\n",
    "def gaussian_function(x, y, pars=None, add_noise=False):\n",
    "    # to be changed: genereate all data here\n",
    "    np.random.seed(2)\n",
    "    if not pars:\n",
    "        x0 = np.random.randn(1)[0]+0.5\n",
    "        y0 = x0+0.5\n",
    "        fwhm = np.random.normal(loc=1.5,scale=3, size=100).mean()\n",
    "    else:\n",
    "        x0, y0, fwhm = pars\n",
    "        \n",
    "    func = 10*np.exp(-4*np.log(2) * ((x-x0)**2 + (y-y0)**2) / fwhm**2)\n",
    "    \n",
    "    if add_noise:\n",
    "        func = add_noise_func(func)\n",
    "    \n",
    "    return func, x0, y0, fwhm\n",
    "\n",
    "def add_noise_func(input_data, mean_noise=0):\n",
    "    # incomplete: refactor code to generate data + noise in one function\n",
    "    avg_data = np.mean(input_data)\n",
    "    noise_ = np.random.normal(mean_noise, np.sqrt(avg_data), 1)[0]\n",
    "    output_data = input_data + noise_\n",
    "    \n",
    "    return output_data\n",
    "\n"
   ]
  },
  {
   "cell_type": "markdown",
   "metadata": {},
   "source": [
    "This is how you call for experimental data at x=1 and y=1: "
   ]
  },
  {
   "cell_type": "code",
   "execution_count": 39,
   "metadata": {},
   "outputs": [],
   "source": [
    "z = gaussian_function(1,1)[0]"
   ]
  },
  {
   "cell_type": "markdown",
   "metadata": {},
   "source": [
    "Use DoE and factioral design to locate the maxima. "
   ]
  },
  {
   "cell_type": "markdown",
   "metadata": {},
   "source": [
    "## Experimental design"
   ]
  },
  {
   "cell_type": "code",
   "execution_count": 3,
   "metadata": {},
   "outputs": [
    {
     "data": {
      "text/html": [
       "<div>\n",
       "<style scoped>\n",
       "    .dataframe tbody tr th:only-of-type {\n",
       "        vertical-align: middle;\n",
       "    }\n",
       "\n",
       "    .dataframe tbody tr th {\n",
       "        vertical-align: top;\n",
       "    }\n",
       "\n",
       "    .dataframe thead th {\n",
       "        text-align: right;\n",
       "    }\n",
       "</style>\n",
       "<table border=\"1\" class=\"dataframe\">\n",
       "  <thead>\n",
       "    <tr style=\"text-align: right;\">\n",
       "      <th></th>\n",
       "      <th>low</th>\n",
       "      <th>high</th>\n",
       "      <th>label</th>\n",
       "      <th>average</th>\n",
       "      <th>span</th>\n",
       "      <th>encoded_low</th>\n",
       "      <th>encoded_high</th>\n",
       "    </tr>\n",
       "    <tr>\n",
       "      <th>index</th>\n",
       "      <th></th>\n",
       "      <th></th>\n",
       "      <th></th>\n",
       "      <th></th>\n",
       "      <th></th>\n",
       "      <th></th>\n",
       "      <th></th>\n",
       "    </tr>\n",
       "  </thead>\n",
       "  <tbody>\n",
       "    <tr>\n",
       "      <th>x</th>\n",
       "      <td>0</td>\n",
       "      <td>1</td>\n",
       "      <td>x</td>\n",
       "      <td>0.5</td>\n",
       "      <td>0.5</td>\n",
       "      <td>-1.0</td>\n",
       "      <td>1.0</td>\n",
       "    </tr>\n",
       "    <tr>\n",
       "      <th>y</th>\n",
       "      <td>0</td>\n",
       "      <td>1</td>\n",
       "      <td>y</td>\n",
       "      <td>0.5</td>\n",
       "      <td>0.5</td>\n",
       "      <td>-1.0</td>\n",
       "      <td>1.0</td>\n",
       "    </tr>\n",
       "  </tbody>\n",
       "</table>\n",
       "</div>"
      ],
      "text/plain": [
       "       low  high label  average  span  encoded_low  encoded_high\n",
       "index                                                           \n",
       "x        0     1     x      0.5   0.5         -1.0           1.0\n",
       "y        0     1     y      0.5   0.5         -1.0           1.0"
      ]
     },
     "execution_count": 3,
     "metadata": {},
     "output_type": "execute_result"
    }
   ],
   "source": [
    "inputs_labels = {'x': 'x', \n",
    "                 'y': 'y'}\n",
    "\n",
    "#create list of data for high and low. \n",
    "dat = [('x', 0, 1), \n",
    "       ('y', 0, 1)]\n",
    "\n",
    "# create pandas dataframe in a pandas dataframe\n",
    "inputs_df = pd.DataFrame(dat, columns=['index', 'low', 'high']).set_index('index')\n",
    "inputs_df['label'] = inputs_df.index.map(lambda z: inputs_labels[z])\n",
    "\n",
    "# compute averages and span\n",
    "inputs_df['average'] = (inputs_df['high'] + inputs_df['low']) / 2\n",
    "inputs_df['span'] = (inputs_df['high'] - inputs_df['low']) / 2\n",
    "\n",
    "# encode the data\n",
    "inputs_df['encoded_low'] = (inputs_df['low'] - inputs_df['average']) / inputs_df['span']\n",
    "inputs_df['encoded_high'] = (inputs_df['high'] - inputs_df['average']) / inputs_df['span']\n",
    "\n",
    "# drop average and span columns\n",
    "#inputs_df = inputs_df.drop(['average', 'span'], axis=1)\n",
    "\n",
    "inputs_df"
   ]
  },
  {
   "cell_type": "code",
   "execution_count": 4,
   "metadata": {},
   "outputs": [
    {
     "data": {
      "text/html": [
       "<div>\n",
       "<style scoped>\n",
       "    .dataframe tbody tr th:only-of-type {\n",
       "        vertical-align: middle;\n",
       "    }\n",
       "\n",
       "    .dataframe tbody tr th {\n",
       "        vertical-align: top;\n",
       "    }\n",
       "\n",
       "    .dataframe thead th {\n",
       "        text-align: right;\n",
       "    }\n",
       "</style>\n",
       "<table border=\"1\" class=\"dataframe\">\n",
       "  <thead>\n",
       "    <tr style=\"text-align: right;\">\n",
       "      <th>index</th>\n",
       "      <th>x</th>\n",
       "      <th>y</th>\n",
       "    </tr>\n",
       "  </thead>\n",
       "  <tbody>\n",
       "    <tr>\n",
       "      <th>0</th>\n",
       "      <td>-1</td>\n",
       "      <td>-1</td>\n",
       "    </tr>\n",
       "    <tr>\n",
       "      <th>1</th>\n",
       "      <td>1</td>\n",
       "      <td>-1</td>\n",
       "    </tr>\n",
       "    <tr>\n",
       "      <th>2</th>\n",
       "      <td>-1</td>\n",
       "      <td>1</td>\n",
       "    </tr>\n",
       "    <tr>\n",
       "      <th>3</th>\n",
       "      <td>1</td>\n",
       "      <td>1</td>\n",
       "    </tr>\n",
       "  </tbody>\n",
       "</table>\n",
       "</div>"
      ],
      "text/plain": [
       "index  x  y\n",
       "0     -1 -1\n",
       "1      1 -1\n",
       "2     -1  1\n",
       "3      1  1"
      ]
     },
     "execution_count": 4,
     "metadata": {},
     "output_type": "execute_result"
    }
   ],
   "source": [
    "encoded_inputs = list(itertools.product([-1, 1], repeat=len(inputs_df)))\n",
    "\n",
    "results = pd.DataFrame(encoded_inputs)\n",
    "results = results[results.columns[::-1]]\n",
    "results.columns = inputs_df.index\n",
    "\n",
    "results"
   ]
  },
  {
   "cell_type": "code",
   "execution_count": 5,
   "metadata": {},
   "outputs": [
    {
     "name": "stdout",
     "output_type": "stream",
     "text": [
      "The values of each real variable in the experiment:\n"
     ]
    },
    {
     "data": {
      "text/html": [
       "<div>\n",
       "<style scoped>\n",
       "    .dataframe tbody tr th:only-of-type {\n",
       "        vertical-align: middle;\n",
       "    }\n",
       "\n",
       "    .dataframe tbody tr th {\n",
       "        vertical-align: top;\n",
       "    }\n",
       "\n",
       "    .dataframe thead th {\n",
       "        text-align: right;\n",
       "    }\n",
       "</style>\n",
       "<table border=\"1\" class=\"dataframe\">\n",
       "  <thead>\n",
       "    <tr style=\"text-align: right;\">\n",
       "      <th>index</th>\n",
       "      <th>x</th>\n",
       "      <th>y</th>\n",
       "    </tr>\n",
       "  </thead>\n",
       "  <tbody>\n",
       "    <tr>\n",
       "      <th>0</th>\n",
       "      <td>0</td>\n",
       "      <td>0</td>\n",
       "    </tr>\n",
       "    <tr>\n",
       "      <th>1</th>\n",
       "      <td>1</td>\n",
       "      <td>0</td>\n",
       "    </tr>\n",
       "    <tr>\n",
       "      <th>2</th>\n",
       "      <td>0</td>\n",
       "      <td>1</td>\n",
       "    </tr>\n",
       "    <tr>\n",
       "      <th>3</th>\n",
       "      <td>1</td>\n",
       "      <td>1</td>\n",
       "    </tr>\n",
       "  </tbody>\n",
       "</table>\n",
       "</div>"
      ],
      "text/plain": [
       "index  x  y\n",
       "0      0  0\n",
       "1      1  0\n",
       "2      0  1\n",
       "3      1  1"
      ]
     },
     "execution_count": 5,
     "metadata": {},
     "output_type": "execute_result"
    }
   ],
   "source": [
    "real_experiment = results.copy()\n",
    "\n",
    "var_labels = []\n",
    "for var in inputs_df.index:\n",
    "    var_label = inputs_df.loc[var, 'label']\n",
    "    var_labels.append(var_label)\n",
    "    real_experiment[var_label] = inputs_df.loc[var, 'low'] * (real_experiment[var] < 0) + inputs_df.loc[var, 'high'] * (real_experiment[var] >= 0)\n",
    "\n",
    "print(\"The values of each real variable in the experiment:\")\n",
    "real_experiment[var_labels]"
   ]
  },
  {
   "cell_type": "markdown",
   "metadata": {},
   "source": [
    "### Add observations"
   ]
  },
  {
   "cell_type": "code",
   "execution_count": 6,
   "metadata": {},
   "outputs": [
    {
     "data": {
      "text/html": [
       "<div>\n",
       "<style scoped>\n",
       "    .dataframe tbody tr th:only-of-type {\n",
       "        vertical-align: middle;\n",
       "    }\n",
       "\n",
       "    .dataframe tbody tr th {\n",
       "        vertical-align: top;\n",
       "    }\n",
       "\n",
       "    .dataframe thead th {\n",
       "        text-align: right;\n",
       "    }\n",
       "</style>\n",
       "<table border=\"1\" class=\"dataframe\">\n",
       "  <thead>\n",
       "    <tr style=\"text-align: right;\">\n",
       "      <th>index</th>\n",
       "      <th>x</th>\n",
       "      <th>y</th>\n",
       "      <th>z</th>\n",
       "    </tr>\n",
       "  </thead>\n",
       "  <tbody>\n",
       "    <tr>\n",
       "      <th>0</th>\n",
       "      <td>-1</td>\n",
       "      <td>-1</td>\n",
       "      <td>5.326879</td>\n",
       "    </tr>\n",
       "    <tr>\n",
       "      <th>1</th>\n",
       "      <td>1</td>\n",
       "      <td>-1</td>\n",
       "      <td>1.173908</td>\n",
       "    </tr>\n",
       "    <tr>\n",
       "      <th>2</th>\n",
       "      <td>-1</td>\n",
       "      <td>1</td>\n",
       "      <td>7.205567</td>\n",
       "    </tr>\n",
       "    <tr>\n",
       "      <th>3</th>\n",
       "      <td>1</td>\n",
       "      <td>1</td>\n",
       "      <td>1.587923</td>\n",
       "    </tr>\n",
       "  </tbody>\n",
       "</table>\n",
       "</div>"
      ],
      "text/plain": [
       "index  x  y         z\n",
       "0     -1 -1  5.326879\n",
       "1      1 -1  1.173908\n",
       "2     -1  1  7.205567\n",
       "3      1  1  1.587923"
      ]
     },
     "execution_count": 6,
     "metadata": {},
     "output_type": "execute_result"
    }
   ],
   "source": [
    "# Draw observations from the experimental space (function at the top)\n",
    "results['z']= gaussian_function(real_experiment['x'],real_experiment['y'])[0]\n",
    "\n",
    "results"
   ]
  },
  {
   "cell_type": "markdown",
   "metadata": {},
   "source": [
    "### Compute effects"
   ]
  },
  {
   "cell_type": "code",
   "execution_count": 7,
   "metadata": {},
   "outputs": [
    {
     "name": "stdout",
     "output_type": "stream",
     "text": [
      "zbar is 3.8235692245509028\n",
      "Main effects:\n",
      "{'x': -4.885307626742085, 'y': 1.146351221231808}\n",
      "Secondary effects:\n"
     ]
    },
    {
     "data": {
      "text/plain": [
       "{('x', 'y'): -0.7323364682467116}"
      ]
     },
     "execution_count": 7,
     "metadata": {},
     "output_type": "execute_result"
    }
   ],
   "source": [
    "# Compute the mean effect of the factor on the response, conditioned on each variable\n",
    "labels = ['x', 'y']\n",
    "\n",
    "# Start with the constant effect: this is z-bar\n",
    "zbar = results['z'].mean()\n",
    "print('zbar is', zbar)\n",
    "\n",
    "# Compute main effects\n",
    "main_effects = {}\n",
    "for key in labels:\n",
    "    average_effects = results.groupby(key)['z'].mean()\n",
    "    main_effects[key] = sum([i * average_effects[i] for i in [-1, 1]])\n",
    "print('Main effects:')\n",
    "print(main_effects)\n",
    "\n",
    "# Compute two-way interaction effects\n",
    "twoway_labels = list(itertools.combinations(labels, 2))\n",
    "twoway_effects = {}\n",
    "for key in twoway_labels:\n",
    "    effects = results.groupby([key[0],key[1]])['z'].mean()\n",
    "    twoway_effects[key] = sum([i * j * effects[i][j] / 2 for i in [-1,1] for j in [-1,1] ])\n",
    "print('Secondary effects:')\n",
    "twoway_effects"
   ]
  },
  {
   "cell_type": "code",
   "execution_count": 8,
   "metadata": {},
   "outputs": [
    {
     "name": "stdout",
     "output_type": "stream",
     "text": [
      "                            OLS Regression Results                            \n",
      "==============================================================================\n",
      "Dep. Variable:                      z   R-squared:                       1.000\n",
      "Model:                            OLS   Adj. R-squared:                    nan\n",
      "Method:                 Least Squares   F-statistic:                       nan\n",
      "Date:                Tue, 13 Jun 2023   Prob (F-statistic):                nan\n",
      "Time:                        10:08:46   Log-Likelihood:                 132.92\n",
      "No. Observations:                   4   AIC:                            -257.8\n",
      "Df Residuals:                       0   BIC:                            -260.3\n",
      "Df Model:                           3                                         \n",
      "Covariance Type:            nonrobust                                         \n",
      "==============================================================================\n",
      "                 coef    std err          t      P>|t|      [0.025      0.975]\n",
      "------------------------------------------------------------------------------\n",
      "Intercept      3.8236        inf          0        nan         nan         nan\n",
      "x             -2.4427        inf         -0        nan         nan         nan\n",
      "y              0.5732        inf          0        nan         nan         nan\n",
      "x:y           -0.3662        inf         -0        nan         nan         nan\n",
      "==============================================================================\n",
      "Omnibus:                          nan   Durbin-Watson:                   0.769\n",
      "Prob(Omnibus):                    nan   Jarque-Bera (JB):                0.898\n",
      "Skew:                           1.105   Prob(JB):                        0.638\n",
      "Kurtosis:                       2.291   Cond. No.                         1.00\n",
      "==============================================================================\n",
      "\n",
      "Notes:\n",
      "[1] Standard Errors assume that the covariance matrix of the errors is correctly specified.\n"
     ]
    },
    {
     "name": "stderr",
     "output_type": "stream",
     "text": [
      "C:\\ProgramData\\Anaconda3\\lib\\site-packages\\statsmodels\\stats\\stattools.py:74: ValueWarning: omni_normtest is not valid with less than 8 observations; 4 samples were given.\n",
      "  warn(\"omni_normtest is not valid with less than 8 observations; %i \"\n",
      "C:\\ProgramData\\Anaconda3\\lib\\site-packages\\statsmodels\\regression\\linear_model.py:1749: RuntimeWarning: divide by zero encountered in true_divide\n",
      "  return 1 - (np.divide(self.nobs - self.k_constant, self.df_resid)\n",
      "C:\\ProgramData\\Anaconda3\\lib\\site-packages\\statsmodels\\regression\\linear_model.py:1749: RuntimeWarning: invalid value encountered in double_scalars\n",
      "  return 1 - (np.divide(self.nobs - self.k_constant, self.df_resid)\n",
      "C:\\ProgramData\\Anaconda3\\lib\\site-packages\\statsmodels\\regression\\linear_model.py:1671: RuntimeWarning: divide by zero encountered in double_scalars\n",
      "  return np.dot(wresid, wresid) / self.df_resid\n",
      "C:\\ProgramData\\Anaconda3\\lib\\site-packages\\statsmodels\\base\\model.py:1512: RuntimeWarning: invalid value encountered in multiply\n",
      "  cov_p = self.normalized_cov_params * scale\n"
     ]
    }
   ],
   "source": [
    "z = results['z']\n",
    "x = results[labels]\n",
    "x = sm.add_constant(x)\n",
    "\n",
    "res1 = smf.ols(formula='z ~ x + y + x:y', data=results).fit()\n",
    "\n",
    "print(res1.summary())"
   ]
  },
  {
   "cell_type": "markdown",
   "metadata": {},
   "source": [
    "### Steepest ascent (and second experiment)"
   ]
  },
  {
   "cell_type": "markdown",
   "metadata": {},
   "source": [
    "With our model obtained from the above linear regression, we now know the direction of the steepest ascent. We can now perform a series of experiments along this direction to close in on the maxima."
   ]
  },
  {
   "cell_type": "code",
   "execution_count": 9,
   "metadata": {},
   "outputs": [
    {
     "data": {
      "text/html": [
       "<div>\n",
       "<style scoped>\n",
       "    .dataframe tbody tr th:only-of-type {\n",
       "        vertical-align: middle;\n",
       "    }\n",
       "\n",
       "    .dataframe tbody tr th {\n",
       "        vertical-align: top;\n",
       "    }\n",
       "\n",
       "    .dataframe thead th {\n",
       "        text-align: right;\n",
       "    }\n",
       "</style>\n",
       "<table border=\"1\" class=\"dataframe\">\n",
       "  <thead>\n",
       "    <tr style=\"text-align: right;\">\n",
       "      <th></th>\n",
       "      <th>x</th>\n",
       "      <th>y</th>\n",
       "      <th>x_decoded</th>\n",
       "      <th>y_decoded</th>\n",
       "      <th>z</th>\n",
       "    </tr>\n",
       "  </thead>\n",
       "  <tbody>\n",
       "    <tr>\n",
       "      <th>0</th>\n",
       "      <td>-0.2</td>\n",
       "      <td>0.046931</td>\n",
       "      <td>0.4</td>\n",
       "      <td>0.523465</td>\n",
       "      <td>8.281639</td>\n",
       "    </tr>\n",
       "    <tr>\n",
       "      <th>1</th>\n",
       "      <td>-0.4</td>\n",
       "      <td>0.093861</td>\n",
       "      <td>0.3</td>\n",
       "      <td>0.546931</td>\n",
       "      <td>9.160855</td>\n",
       "    </tr>\n",
       "    <tr>\n",
       "      <th>2</th>\n",
       "      <td>-0.6</td>\n",
       "      <td>0.140792</td>\n",
       "      <td>0.2</td>\n",
       "      <td>0.570396</td>\n",
       "      <td>9.752752</td>\n",
       "    </tr>\n",
       "    <tr>\n",
       "      <th>3</th>\n",
       "      <td>-0.8</td>\n",
       "      <td>0.187722</td>\n",
       "      <td>0.1</td>\n",
       "      <td>0.593861</td>\n",
       "      <td>9.992861</td>\n",
       "    </tr>\n",
       "    <tr>\n",
       "      <th>4</th>\n",
       "      <td>-1.0</td>\n",
       "      <td>0.234653</td>\n",
       "      <td>0.0</td>\n",
       "      <td>0.617326</td>\n",
       "      <td>9.854260</td>\n",
       "    </tr>\n",
       "    <tr>\n",
       "      <th>5</th>\n",
       "      <td>-1.2</td>\n",
       "      <td>0.281583</td>\n",
       "      <td>-0.1</td>\n",
       "      <td>0.640792</td>\n",
       "      <td>9.352543</td>\n",
       "    </tr>\n",
       "  </tbody>\n",
       "</table>\n",
       "</div>"
      ],
      "text/plain": [
       "     x         y  x_decoded  y_decoded         z\n",
       "0 -0.2  0.046931        0.4   0.523465  8.281639\n",
       "1 -0.4  0.093861        0.3   0.546931  9.160855\n",
       "2 -0.6  0.140792        0.2   0.570396  9.752752\n",
       "3 -0.8  0.187722        0.1   0.593861  9.992861\n",
       "4 -1.0  0.234653        0.0   0.617326  9.854260\n",
       "5 -1.2  0.281583       -0.1   0.640792  9.352543"
      ]
     },
     "execution_count": 9,
     "metadata": {},
     "output_type": "execute_result"
    }
   ],
   "source": [
    "# Define origin\n",
    "origin = [0, 0]\n",
    "\n",
    "# Get coefficient values from regression results\n",
    "coefficients = {\n",
    "    'x': res1.params['x'],\n",
    "    'y': res1.params['y'],\n",
    "    'x:y': res1.params['x:y']\n",
    "}\n",
    "\n",
    "# Compute delta based on coefficients\n",
    "delta_x = -0.2\n",
    "delta_y = delta_x * coefficients['y'] / coefficients['x']\n",
    "delta = [delta_x, delta_y]\n",
    "\n",
    "# Create sequence of points\n",
    "march = []\n",
    "for i in range(0, 6):\n",
    "    # Predict the next (x,y) point based on the regression model\n",
    "    next_point = {\n",
    "        'x': origin[0] + (i + 1) * delta[0],\n",
    "        'y': origin[1] + (i + 1) * delta[1]\n",
    "    }\n",
    "    march.append(next_point)\n",
    "\n",
    "# Decode x and y values and call function (collect output data)\n",
    "March = pd.DataFrame(march, columns=['x', 'y'])\n",
    "March['x_decoded'] = (March['x'] * inputs_df['span']['x'] + inputs_df['average']['x'])\n",
    "March['y_decoded'] = (March['y'] * inputs_df['span']['y'] + inputs_df['average']['y'])\n",
    "March['z'] = gaussian_function(March['x_decoded'], March['y_decoded'])[0]\n",
    "\n",
    "March"
   ]
  },
  {
   "cell_type": "code",
   "execution_count": 82,
   "metadata": {},
   "outputs": [
    {
     "data": {
      "text/plain": [
       "Text(0, 0.5, 'Yield')"
      ]
     },
     "execution_count": 82,
     "metadata": {},
     "output_type": "execute_result"
    },
    {
     "data": {
      "image/png": "[encoded data removed]",
      "text/plain": [
       "<Figure size 640x480 with 1 Axes>"
      ]
     },
     "metadata": {},
     "output_type": "display_data"
    }
   ],
   "source": [
    "# Plot response values\n",
    "ax = March['z'].plot()\n",
    "ax.set_xlabel(\"step\")\n",
    "ax.set_ylabel(\"Yield\")"
   ]
  },
  {
   "cell_type": "code",
   "execution_count": 10,
   "metadata": {},
   "outputs": [
    {
     "data": {
      "text/html": [
       "<div>\n",
       "<style scoped>\n",
       "    .dataframe tbody tr th:only-of-type {\n",
       "        vertical-align: middle;\n",
       "    }\n",
       "\n",
       "    .dataframe tbody tr th {\n",
       "        vertical-align: top;\n",
       "    }\n",
       "\n",
       "    .dataframe thead th {\n",
       "        text-align: right;\n",
       "    }\n",
       "</style>\n",
       "<table border=\"1\" class=\"dataframe\">\n",
       "  <thead>\n",
       "    <tr style=\"text-align: right;\">\n",
       "      <th></th>\n",
       "      <th>encoded_max</th>\n",
       "      <th>decoded_max</th>\n",
       "    </tr>\n",
       "    <tr>\n",
       "      <th>index</th>\n",
       "      <th></th>\n",
       "      <th></th>\n",
       "    </tr>\n",
       "  </thead>\n",
       "  <tbody>\n",
       "    <tr>\n",
       "      <th>x</th>\n",
       "      <td>-0.800000</td>\n",
       "      <td>0.100000</td>\n",
       "    </tr>\n",
       "    <tr>\n",
       "      <th>y</th>\n",
       "      <td>0.187722</td>\n",
       "      <td>0.593861</td>\n",
       "    </tr>\n",
       "  </tbody>\n",
       "</table>\n",
       "</div>"
      ],
      "text/plain": [
       "       encoded_max  decoded_max\n",
       "index                          \n",
       "x        -0.800000     0.100000\n",
       "y         0.187722     0.593861"
      ]
     },
     "execution_count": 10,
     "metadata": {},
     "output_type": "execute_result"
    }
   ],
   "source": [
    "# Find maximum point\n",
    "max_point = March.loc[March['z'].idxmax()]\n",
    "\n",
    "# Convert maximum point from encoded to decoded form\n",
    "maximum = inputs_df.copy()\n",
    "maximum['encoded_max'] = max_point[['x', 'y']].values\n",
    "maximum['decoded_max'] = max_point[['x_decoded', 'y_decoded']].values\n",
    "\n",
    "# Display encoded and decoded maximum values\n",
    "maximum[['encoded_max', 'decoded_max']]"
   ]
  },
  {
   "cell_type": "markdown",
   "metadata": {},
   "source": [
    "### Plot collected data in a scatter plot"
   ]
  },
  {
   "cell_type": "markdown",
   "metadata": {},
   "source": [
    "Illustrate the datapoints we have so far collected with a scatter plot in our real space"
   ]
  },
  {
   "cell_type": "code",
   "execution_count": 11,
   "metadata": {},
   "outputs": [
    {
     "data": {
      "image/png": "[encoded data removed]",
      "text/plain": [
       "<Figure size 640x480 with 2 Axes>"
      ]
     },
     "metadata": {},
     "output_type": "display_data"
    }
   ],
   "source": [
    "# Extract x, y, and z values from \"real_experiment\" and results\" dataframe\n",
    "x_real = real_experiment['x']\n",
    "y_real = real_experiment['y']\n",
    "z_results = results['z']\n",
    "\n",
    "# Extract x, y, and z values from \"March\" dataframe\n",
    "x_march = March['x_decoded']\n",
    "y_march = March['y_decoded']\n",
    "z_march = March['z']\n",
    "\n",
    "# Create a new dataframe for the scatter plot\n",
    "scatter_data = pd.DataFrame({'x': np.concatenate([x_real, x_march]),\n",
    "                             'y': np.concatenate([y_real, y_march]),\n",
    "                             'z': np.concatenate([z_results, z_march])})\n",
    "\n",
    "# Plot the scatter plot of discrete points\n",
    "plt.scatter(scatter_data['x'], scatter_data['y'], c=scatter_data['z'],\n",
    "            cmap='viridis', edgecolors='black')\n",
    "plt.colorbar(label='z')\n",
    "plt.xlabel('x')\n",
    "plt.ylabel('y')\n",
    "plt.title('Collected data points')\n",
    "plt.show()"
   ]
  },
  {
   "cell_type": "markdown",
   "metadata": {},
   "source": [
    "We now have a rough maximum. If we want to get more precise, we can make another four/five point experiment closer to the maxima, and build a new model."
   ]
  },
  {
   "cell_type": "markdown",
   "metadata": {},
   "source": [
    "## Refining the model"
   ]
  },
  {
   "cell_type": "markdown",
   "metadata": {},
   "source": [
    "Let's use some of the data that we have already collected to minimize the amount of new experiments. \n",
    "\n",
    "We can then make a rectangle of data points, with the previously found maxima as a centre point, and the two adjacent points as two of the corners (see scatter plot further down for clarification)."
   ]
  },
  {
   "cell_type": "code",
   "execution_count": 12,
   "metadata": {},
   "outputs": [
    {
     "data": {
      "text/html": [
       "<div>\n",
       "<style scoped>\n",
       "    .dataframe tbody tr th:only-of-type {\n",
       "        vertical-align: middle;\n",
       "    }\n",
       "\n",
       "    .dataframe tbody tr th {\n",
       "        vertical-align: top;\n",
       "    }\n",
       "\n",
       "    .dataframe thead th {\n",
       "        text-align: right;\n",
       "    }\n",
       "</style>\n",
       "<table border=\"1\" class=\"dataframe\">\n",
       "  <thead>\n",
       "    <tr style=\"text-align: right;\">\n",
       "      <th></th>\n",
       "      <th>low</th>\n",
       "      <th>center</th>\n",
       "      <th>high</th>\n",
       "      <th>label</th>\n",
       "      <th>average</th>\n",
       "      <th>span</th>\n",
       "      <th>encoded_low</th>\n",
       "      <th>encoded_center</th>\n",
       "      <th>encoded_high</th>\n",
       "    </tr>\n",
       "    <tr>\n",
       "      <th>index</th>\n",
       "      <th></th>\n",
       "      <th></th>\n",
       "      <th></th>\n",
       "      <th></th>\n",
       "      <th></th>\n",
       "      <th></th>\n",
       "      <th></th>\n",
       "      <th></th>\n",
       "      <th></th>\n",
       "    </tr>\n",
       "  </thead>\n",
       "  <tbody>\n",
       "    <tr>\n",
       "      <th>x</th>\n",
       "      <td>0.000000</td>\n",
       "      <td>0.100000</td>\n",
       "      <td>0.200000</td>\n",
       "      <td>x</td>\n",
       "      <td>0.100000</td>\n",
       "      <td>0.100000</td>\n",
       "      <td>-1.0</td>\n",
       "      <td>0.0</td>\n",
       "      <td>1.0</td>\n",
       "    </tr>\n",
       "    <tr>\n",
       "      <th>y</th>\n",
       "      <td>0.570396</td>\n",
       "      <td>0.593861</td>\n",
       "      <td>0.617326</td>\n",
       "      <td>y</td>\n",
       "      <td>0.593861</td>\n",
       "      <td>0.023465</td>\n",
       "      <td>-1.0</td>\n",
       "      <td>0.0</td>\n",
       "      <td>1.0</td>\n",
       "    </tr>\n",
       "  </tbody>\n",
       "</table>\n",
       "</div>"
      ],
      "text/plain": [
       "            low    center      high label   average      span  encoded_low  \\\n",
       "index                                                                        \n",
       "x      0.000000  0.100000  0.200000     x  0.100000  0.100000         -1.0   \n",
       "y      0.570396  0.593861  0.617326     y  0.593861  0.023465         -1.0   \n",
       "\n",
       "       encoded_center  encoded_high  \n",
       "index                                \n",
       "x                 0.0           1.0  \n",
       "y                 0.0           1.0  "
      ]
     },
     "execution_count": 12,
     "metadata": {},
     "output_type": "execute_result"
    }
   ],
   "source": [
    "# Make a new list of data for high and low, based around the maxima. Add a centre point for a more accurate model. \n",
    "dat2 = [('x', 0.0, 0.1, 0.2), \n",
    "       ('y', 0.570396, 0.593861, 0.617326)]\n",
    "\n",
    "# create pandas dataframe in a pandas dataframe\n",
    "inputs2_df = pd.DataFrame(dat2,columns=['index','low','center','high']).set_index('index')\n",
    "inputs2_df['label'] = inputs2_df.index.map(lambda z: inputs_labels[z])\n",
    "\n",
    "# compute averages and span\n",
    "inputs2_df['average'] = (inputs2_df['high'] + inputs2_df['low']) / 2\n",
    "inputs2_df['span'] = (inputs2_df['high'] - inputs2_df['low']) / 2\n",
    "\n",
    "# encode the data\n",
    "inputs2_df['encoded_low'] = (inputs2_df['low'] - inputs2_df['average']) / inputs2_df['span']\n",
    "inputs2_df['encoded_center'] = (inputs2_df['center'] - inputs2_df['average']) / inputs2_df['span']\n",
    "inputs2_df['encoded_high'] = (inputs2_df['high'] - inputs2_df['average']) / inputs2_df['span']\n",
    "\n",
    "# Print dataframe\n",
    "inputs2_df"
   ]
  },
  {
   "cell_type": "code",
   "execution_count": 13,
   "metadata": {},
   "outputs": [
    {
     "data": {
      "text/html": [
       "<div>\n",
       "<style scoped>\n",
       "    .dataframe tbody tr th:only-of-type {\n",
       "        vertical-align: middle;\n",
       "    }\n",
       "\n",
       "    .dataframe tbody tr th {\n",
       "        vertical-align: top;\n",
       "    }\n",
       "\n",
       "    .dataframe thead th {\n",
       "        text-align: right;\n",
       "    }\n",
       "</style>\n",
       "<table border=\"1\" class=\"dataframe\">\n",
       "  <thead>\n",
       "    <tr style=\"text-align: right;\">\n",
       "      <th>index</th>\n",
       "      <th>x</th>\n",
       "      <th>y</th>\n",
       "    </tr>\n",
       "  </thead>\n",
       "  <tbody>\n",
       "    <tr>\n",
       "      <th>0</th>\n",
       "      <td>-1</td>\n",
       "      <td>-1</td>\n",
       "    </tr>\n",
       "    <tr>\n",
       "      <th>1</th>\n",
       "      <td>1</td>\n",
       "      <td>-1</td>\n",
       "    </tr>\n",
       "    <tr>\n",
       "      <th>2</th>\n",
       "      <td>-1</td>\n",
       "      <td>1</td>\n",
       "    </tr>\n",
       "    <tr>\n",
       "      <th>3</th>\n",
       "      <td>1</td>\n",
       "      <td>1</td>\n",
       "    </tr>\n",
       "    <tr>\n",
       "      <th>4</th>\n",
       "      <td>0</td>\n",
       "      <td>0</td>\n",
       "    </tr>\n",
       "  </tbody>\n",
       "</table>\n",
       "</div>"
      ],
      "text/plain": [
       "index  x  y\n",
       "0     -1 -1\n",
       "1      1 -1\n",
       "2     -1  1\n",
       "3      1  1\n",
       "4      0  0"
      ]
     },
     "execution_count": 13,
     "metadata": {},
     "output_type": "execute_result"
    }
   ],
   "source": [
    "encoded_inputs2 = list(itertools.product([-1, 1], repeat=len(inputs2_df)))\n",
    "for i in range(0,1):\n",
    "    encoded_inputs2.append((0,0))\n",
    "\n",
    "results2 = pd.DataFrame(encoded_inputs2)\n",
    "results2 = results2[results2.columns[::-1]]\n",
    "results2.columns = inputs2_df.index\n",
    "\n",
    "results2"
   ]
  },
  {
   "cell_type": "code",
   "execution_count": 14,
   "metadata": {},
   "outputs": [
    {
     "name": "stdout",
     "output_type": "stream",
     "text": [
      "The values of each real variable in the experiment:\n"
     ]
    },
    {
     "data": {
      "text/html": [
       "<div>\n",
       "<style scoped>\n",
       "    .dataframe tbody tr th:only-of-type {\n",
       "        vertical-align: middle;\n",
       "    }\n",
       "\n",
       "    .dataframe tbody tr th {\n",
       "        vertical-align: top;\n",
       "    }\n",
       "\n",
       "    .dataframe thead th {\n",
       "        text-align: right;\n",
       "    }\n",
       "</style>\n",
       "<table border=\"1\" class=\"dataframe\">\n",
       "  <thead>\n",
       "    <tr style=\"text-align: right;\">\n",
       "      <th>index</th>\n",
       "      <th>x</th>\n",
       "      <th>y</th>\n",
       "    </tr>\n",
       "  </thead>\n",
       "  <tbody>\n",
       "    <tr>\n",
       "      <th>0</th>\n",
       "      <td>0.0</td>\n",
       "      <td>0.570396</td>\n",
       "    </tr>\n",
       "    <tr>\n",
       "      <th>1</th>\n",
       "      <td>0.2</td>\n",
       "      <td>0.570396</td>\n",
       "    </tr>\n",
       "    <tr>\n",
       "      <th>2</th>\n",
       "      <td>0.0</td>\n",
       "      <td>0.617326</td>\n",
       "    </tr>\n",
       "    <tr>\n",
       "      <th>3</th>\n",
       "      <td>0.2</td>\n",
       "      <td>0.617326</td>\n",
       "    </tr>\n",
       "    <tr>\n",
       "      <th>4</th>\n",
       "      <td>0.1</td>\n",
       "      <td>0.593861</td>\n",
       "    </tr>\n",
       "  </tbody>\n",
       "</table>\n",
       "</div>"
      ],
      "text/plain": [
       "index    x         y\n",
       "0      0.0  0.570396\n",
       "1      0.2  0.570396\n",
       "2      0.0  0.617326\n",
       "3      0.2  0.617326\n",
       "4      0.1  0.593861"
      ]
     },
     "execution_count": 14,
     "metadata": {},
     "output_type": "execute_result"
    }
   ],
   "source": [
    "real_experiment2 = results2.copy()\n",
    "\n",
    "var_labels2 = inputs2_df['label'].tolist()\n",
    "real_experiment2[var_labels2] = results2.apply(\n",
    "    lambda z: inputs2_df.loc[:, 'low'].where(z < 0, inputs2_df.loc[:, 'high'].where(z > 0, inputs2_df.loc[:, 'center'])),\n",
    "    axis=1\n",
    ")\n",
    "\n",
    "print(\"The values of each real variable in the experiment:\")\n",
    "real_experiment2[var_labels2]"
   ]
  },
  {
   "cell_type": "markdown",
   "metadata": {},
   "source": [
    "### Add observations (Third experiment)"
   ]
  },
  {
   "cell_type": "markdown",
   "metadata": {},
   "source": [
    "Note that only two new data points are collected in this experiment."
   ]
  },
  {
   "cell_type": "code",
   "execution_count": 15,
   "metadata": {},
   "outputs": [
    {
     "data": {
      "text/html": [
       "<div>\n",
       "<style scoped>\n",
       "    .dataframe tbody tr th:only-of-type {\n",
       "        vertical-align: middle;\n",
       "    }\n",
       "\n",
       "    .dataframe tbody tr th {\n",
       "        vertical-align: top;\n",
       "    }\n",
       "\n",
       "    .dataframe thead th {\n",
       "        text-align: right;\n",
       "    }\n",
       "</style>\n",
       "<table border=\"1\" class=\"dataframe\">\n",
       "  <thead>\n",
       "    <tr style=\"text-align: right;\">\n",
       "      <th>index</th>\n",
       "      <th>x</th>\n",
       "      <th>y</th>\n",
       "      <th>z</th>\n",
       "    </tr>\n",
       "  </thead>\n",
       "  <tbody>\n",
       "    <tr>\n",
       "      <th>0</th>\n",
       "      <td>-1</td>\n",
       "      <td>-1</td>\n",
       "      <td>9.872098</td>\n",
       "    </tr>\n",
       "    <tr>\n",
       "      <th>1</th>\n",
       "      <td>1</td>\n",
       "      <td>-1</td>\n",
       "      <td>9.752752</td>\n",
       "    </tr>\n",
       "    <tr>\n",
       "      <th>2</th>\n",
       "      <td>-1</td>\n",
       "      <td>1</td>\n",
       "      <td>9.854261</td>\n",
       "    </tr>\n",
       "    <tr>\n",
       "      <th>3</th>\n",
       "      <td>1</td>\n",
       "      <td>1</td>\n",
       "      <td>9.735130</td>\n",
       "    </tr>\n",
       "    <tr>\n",
       "      <th>4</th>\n",
       "      <td>0</td>\n",
       "      <td>0</td>\n",
       "      <td>9.992861</td>\n",
       "    </tr>\n",
       "  </tbody>\n",
       "</table>\n",
       "</div>"
      ],
      "text/plain": [
       "index  x  y         z\n",
       "0     -1 -1  9.872098\n",
       "1      1 -1  9.752752\n",
       "2     -1  1  9.854261\n",
       "3      1  1  9.735130\n",
       "4      0  0  9.992861"
      ]
     },
     "execution_count": 15,
     "metadata": {},
     "output_type": "execute_result"
    }
   ],
   "source": [
    "# Draw observations from the experimental space (function at the top)\n",
    "results2['z']= gaussian_function(real_experiment2['x'],real_experiment2['y'])[0]\n",
    "\n",
    "results2"
   ]
  },
  {
   "cell_type": "code",
   "execution_count": 16,
   "metadata": {},
   "outputs": [
    {
     "name": "stdout",
     "output_type": "stream",
     "text": [
      "zbar is 9.841420202572753\n",
      "Main effects:\n",
      "{'x': -0.11923873751242553, 'y': -0.01772973775002562}\n",
      "Secondary effects:\n"
     ]
    },
    {
     "data": {
      "text/plain": [
       "{('x', 'y'): 0.00010782162493416791}"
      ]
     },
     "execution_count": 16,
     "metadata": {},
     "output_type": "execute_result"
    }
   ],
   "source": [
    "# Compute the mean effect of the factor on the response, conditioned on each variable\n",
    "\n",
    "# Start with the constant effect: this is z-bar\n",
    "zbar2 = results2['z'].mean()\n",
    "print('zbar is', zbar2)\n",
    "\n",
    "# Compute main effects\n",
    "main_effects2 = {}\n",
    "for key in labels:\n",
    "    average_effects2 = results2.groupby(key)['z'].mean()\n",
    "    main_effects2[key] = sum([i * average_effects2[i] for i in [-1, 1]])\n",
    "print('Main effects:')\n",
    "print(main_effects2)\n",
    "\n",
    "# Compute two-way interaction effects\n",
    "twoway_effects2 = {}\n",
    "for key in twoway_labels:\n",
    "    effects2 = results2.groupby([key[0],key[1]])['z'].mean()\n",
    "    twoway_effects2[key] = sum([i * j * effects2[i][j] / 2 for i in [-1,1] for j in [-1,1] ])\n",
    "\n",
    "print('Secondary effects:')\n",
    "twoway_effects2"
   ]
  },
  {
   "cell_type": "code",
   "execution_count": 20,
   "metadata": {},
   "outputs": [
    {
     "name": "stdout",
     "output_type": "stream",
     "text": [
      "                            OLS Regression Results                            \n",
      "==============================================================================\n",
      "Dep. Variable:                      z   R-squared:                       1.000\n",
      "Model:                            OLS   Adj. R-squared:                    nan\n",
      "Method:                 Least Squares   F-statistic:                       nan\n",
      "Date:                Tue, 13 Jun 2023   Prob (F-statistic):                nan\n",
      "Time:                        10:09:37   Log-Likelihood:                 147.64\n",
      "No. Observations:                   5   AIC:                            -285.3\n",
      "Df Residuals:                       0   BIC:                            -287.2\n",
      "Df Model:                           4                                         \n",
      "Covariance Type:            nonrobust                                         \n",
      "==============================================================================\n",
      "                 coef    std err          t      P>|t|      [0.025      0.975]\n",
      "------------------------------------------------------------------------------\n",
      "Intercept      9.9929        inf          0        nan         nan         nan\n",
      "x             -0.0596        inf         -0        nan         nan         nan\n",
      "y             -0.0089        inf         -0        nan         nan         nan\n",
      "x:y         5.391e-05        inf          0        nan         nan         nan\n",
      "I(x ** 2)     -0.0947        inf         -0        nan         nan         nan\n",
      "I(y ** 2)     -0.0947        inf         -0        nan         nan         nan\n",
      "==============================================================================\n",
      "Omnibus:                          nan   Durbin-Watson:                   1.300\n",
      "Prob(Omnibus):                    nan   Jarque-Bera (JB):                1.341\n",
      "Skew:                          -1.268   Prob(JB):                        0.511\n",
      "Kurtosis:                       2.890   Cond. No.                         4.37\n",
      "==============================================================================\n",
      "\n",
      "Notes:\n",
      "[1] Standard Errors assume that the covariance matrix of the errors is correctly specified.\n",
      "[2] The input rank is higher than the number of observations.\n"
     ]
    },
    {
     "name": "stderr",
     "output_type": "stream",
     "text": [
      "C:\\ProgramData\\Anaconda3\\lib\\site-packages\\statsmodels\\stats\\stattools.py:74: ValueWarning: omni_normtest is not valid with less than 8 observations; 5 samples were given.\n",
      "  warn(\"omni_normtest is not valid with less than 8 observations; %i \"\n",
      "C:\\ProgramData\\Anaconda3\\lib\\site-packages\\statsmodels\\regression\\linear_model.py:1749: RuntimeWarning: divide by zero encountered in true_divide\n",
      "  return 1 - (np.divide(self.nobs - self.k_constant, self.df_resid)\n",
      "C:\\ProgramData\\Anaconda3\\lib\\site-packages\\statsmodels\\regression\\linear_model.py:1749: RuntimeWarning: invalid value encountered in double_scalars\n",
      "  return 1 - (np.divide(self.nobs - self.k_constant, self.df_resid)\n",
      "C:\\ProgramData\\Anaconda3\\lib\\site-packages\\statsmodels\\regression\\linear_model.py:1671: RuntimeWarning: divide by zero encountered in double_scalars\n",
      "  return np.dot(wresid, wresid) / self.df_resid\n"
     ]
    }
   ],
   "source": [
    "z = results2['z']\n",
    "x = results2[labels]\n",
    "x = sm.add_constant(x)\n",
    "\n",
    "# Fit a second-order polynomial regression model\n",
    "model_formula = 'z ~ x + y + x:y + I(x**2) + I(y**2)'\n",
    "res2 = smf.ols(formula=model_formula, data=results2).fit()\n",
    "\n",
    "print(res2.summary())"
   ]
  },
  {
   "cell_type": "code",
   "execution_count": 21,
   "metadata": {},
   "outputs": [
    {
     "name": "stdout",
     "output_type": "stream",
     "text": [
      "Maximum Point:\n"
     ]
    },
    {
     "data": {
      "text/html": [
       "<div>\n",
       "<style scoped>\n",
       "    .dataframe tbody tr th:only-of-type {\n",
       "        vertical-align: middle;\n",
       "    }\n",
       "\n",
       "    .dataframe tbody tr th {\n",
       "        vertical-align: top;\n",
       "    }\n",
       "\n",
       "    .dataframe thead th {\n",
       "        text-align: right;\n",
       "    }\n",
       "</style>\n",
       "<table border=\"1\" class=\"dataframe\">\n",
       "  <thead>\n",
       "    <tr style=\"text-align: right;\">\n",
       "      <th></th>\n",
       "      <th>x_decoded</th>\n",
       "      <th>y_decoded</th>\n",
       "      <th>z</th>\n",
       "    </tr>\n",
       "  </thead>\n",
       "  <tbody>\n",
       "    <tr>\n",
       "      <th>Maximum Point</th>\n",
       "      <td>0.068687</td>\n",
       "      <td>0.592676</td>\n",
       "      <td>10.002456</td>\n",
       "    </tr>\n",
       "  </tbody>\n",
       "</table>\n",
       "</div>"
      ],
      "text/plain": [
       "               x_decoded  y_decoded          z\n",
       "Maximum Point   0.068687   0.592676  10.002456"
      ]
     },
     "execution_count": 21,
     "metadata": {},
     "output_type": "execute_result"
    }
   ],
   "source": [
    "# Define the range of x and y values for prediction\n",
    "x_range = np.linspace(-1, 1, 100)\n",
    "y_range = np.linspace(-1, 1, 100)\n",
    "\n",
    "# Create a meshgrid of x and y values\n",
    "X_mesh, Y_mesh = np.meshgrid(x_range, y_range)\n",
    "\n",
    "# Flatten the meshgrid into 1D arrays\n",
    "x_flat = X_mesh.flatten()\n",
    "y_flat = Y_mesh.flatten()\n",
    "\n",
    "# Create a DataFrame with the flattened x and y values\n",
    "prediction_data = pd.DataFrame({'x': x_flat, 'y': y_flat})\n",
    "\n",
    "# Add a constant column to the prediction data\n",
    "prediction_data = sm.add_constant(prediction_data)\n",
    "\n",
    "# Predict the response values for the prediction data\n",
    "predictions = res2.predict(prediction_data)\n",
    "\n",
    "# Find the index of the maximum predicted response value\n",
    "max_index2 = predictions.idxmax()\n",
    "\n",
    "# Extract the corresponding input values for the maximum point\n",
    "max_point2 = prediction_data.loc[max_index2, ['x', 'y']]\n",
    "\n",
    "# Decode the maximum point to obtain the real values\n",
    "max_point_decoded = pd.Series({\n",
    "    'x_decoded': max_point2['x'] * inputs2_df.loc['x', 'span'] + inputs2_df.loc['x', 'average'],\n",
    "    'y_decoded': max_point2['y'] * inputs2_df.loc['y', 'span'] + inputs2_df.loc['y', 'average']\n",
    "})\n",
    "\n",
    "# Calculate the maximum response value\n",
    "max_z = predictions[max_index2]\n",
    "\n",
    "# Create a DataFrame for the maximum point\n",
    "max_point_df = pd.DataFrame([max_point_decoded]).rename(index={0: 'Maximum Point'})\n",
    "\n",
    "# Add the maximum response value to the DataFrame\n",
    "max_point_df['z'] = max_z\n",
    "\n",
    "print('Maximum Point:')\n",
    "max_point_df"
   ]
  },
  {
   "cell_type": "markdown",
   "metadata": {},
   "source": [
    "## Visualisation of maximum and collected data"
   ]
  },
  {
   "cell_type": "markdown",
   "metadata": {},
   "source": [
    "If we want, we can now plot the predicted surface to visualise the result."
   ]
  },
  {
   "cell_type": "code",
   "execution_count": 22,
   "metadata": {},
   "outputs": [
    {
     "data": {
      "image/png": "[encoded data removed]",
      "text/plain": [
       "<Figure size 640x480 with 1 Axes>"
      ]
     },
     "metadata": {},
     "output_type": "display_data"
    }
   ],
   "source": [
    "from mpl_toolkits.mplot3d import Axes3D\n",
    "\n",
    "# Reshape the predictions array to match the meshgrid shape\n",
    "Z_mesh = predictions.values.reshape(X_mesh.shape)\n",
    "\n",
    "# Create a 3D plot\n",
    "fig = plt.figure()\n",
    "ax = fig.add_subplot(111, projection='3d')\n",
    "\n",
    "# Plot the surface\n",
    "ax.plot_surface(X_mesh, Y_mesh, Z_mesh, cmap='viridis')\n",
    "\n",
    "# Set labels and title\n",
    "ax.set_xlabel('x')\n",
    "ax.set_ylabel('y')\n",
    "ax.set_zlabel('z')\n",
    "ax.set_title('Predicted Surface')\n",
    "\n",
    "# Show the plot\n",
    "plt.show()"
   ]
  },
  {
   "cell_type": "markdown",
   "metadata": {},
   "source": [
    "And we can plot all the collected data points in real space"
   ]
  },
  {
   "cell_type": "code",
   "execution_count": 23,
   "metadata": {},
   "outputs": [
    {
     "data": {
      "image/png": "[encoded data removed]",
      "text/plain": [
       "<Figure size 640x480 with 2 Axes>"
      ]
     },
     "metadata": {},
     "output_type": "display_data"
    }
   ],
   "source": [
    "# Extract x, y, and z values from \"real_experiment2\" dataframe\n",
    "x_real2 = real_experiment2[var_labels2]['x']\n",
    "y_real2 = real_experiment2[var_labels2]['y']\n",
    "z_results2 = results2['z']\n",
    "\n",
    "# Create a new dataframe for the additional data points\n",
    "third_exp = pd.DataFrame({'x': x_real2, 'y': y_real2, 'z': z_results2})\n",
    "\n",
    "# Concatenate the additional data points with the existing scatter_data dataframe\n",
    "combined_data = pd.concat([scatter_data, third_exp], ignore_index=True)\n",
    "\n",
    "# Plot the scatter plot of all data points\n",
    "plt.scatter(combined_data['x'], combined_data['y'], c=combined_data['z'],\n",
    "            cmap='viridis', edgecolors='black')\n",
    "\n",
    "# Add the predicted maximum point\n",
    "plt.scatter(max_point_decoded['x_decoded'], max_point_decoded['y_decoded'], c='black', marker='x', s=20)\n",
    "plt.annotate('Predicted Max', xy=(max_point_decoded['x_decoded'], max_point_decoded['y_decoded']),\n",
    "             xytext=(-35, -40), textcoords='offset points',\n",
    "             arrowprops=dict(arrowstyle='->', color='black'), color='black')\n",
    "\n",
    "plt.colorbar(label='z')\n",
    "plt.xlabel('x')\n",
    "plt.ylabel('y')\n",
    "plt.title('Combined data points')\n",
    "plt.show()"
   ]
  },
  {
   "cell_type": "code",
   "execution_count": null,
   "metadata": {},
   "outputs": [],
   "source": []
  }
 ],
 "metadata": {
  "kernelspec": {
   "display_name": "Python 3 (ipykernel)",
   "language": "python",
   "name": "python3"
  },
  "language_info": {
   "codemirror_mode": {
    "name": "ipython",
    "version": 3
   },
   "file_extension": ".py",
   "mimetype": "text/x-python",
   "name": "python",
   "nbconvert_exporter": "python",
   "pygments_lexer": "ipython3",
   "version": "3.9.13"
  }
 },
 "nbformat": 4,
 "nbformat_minor": 4
}
